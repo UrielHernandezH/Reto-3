{
  "nbformat": 4,
  "nbformat_minor": 0,
  "metadata": {
    "colab": {
      "name": "Untitled0.ipynb",
      "provenance": [],
      "collapsed_sections": [],
      "authorship_tag": "ABX9TyNYXoxlRgH8c4DiewQMhOCj",
      "include_colab_link": true
    },
    "kernelspec": {
      "name": "python3",
      "display_name": "Python 3"
    }
  },
  "cells": [
    {
      "cell_type": "markdown",
      "metadata": {
        "id": "view-in-github",
        "colab_type": "text"
      },
      "source": [
        "<a href=\"https://colab.research.google.com/github/UrielHernandezH/Reto-3/blob/main/Codigo.ipynb\" target=\"_parent\"><img src=\"https://colab.research.google.com/assets/colab-badge.svg\" alt=\"Open In Colab\"/></a>"
      ]
    },
    {
      "cell_type": "markdown",
      "metadata": {
        "id": "XvshC8VcHX4B"
      },
      "source": [
        ""
      ]
    },
    {
      "cell_type": "markdown",
      "metadata": {
        "id": "cEilGgkoHf8b"
      },
      "source": [
        "Primero se importan las librerias/diccionarios de Speech"
      ]
    },
    {
      "cell_type": "code",
      "metadata": {
        "colab": {
          "base_uri": "https://localhost:8080/"
        },
        "id": "LRocb0nRFT7R",
        "outputId": "d5534c97-a6c1-4df7-afaa-42838e6b840c"
      },
      "source": [
        "!pip install azure-cognitiveservices-speech"
      ],
      "execution_count": null,
      "outputs": [
        {
          "output_type": "stream",
          "text": [
            "Requirement already satisfied: azure-cognitiveservices-speech in /usr/local/lib/python3.7/dist-packages (1.15.0)\n"
          ],
          "name": "stdout"
        }
      ]
    },
    {
      "cell_type": "code",
      "metadata": {
        "colab": {
          "base_uri": "https://localhost:8080/"
        },
        "id": "pjyBgEY7GP3U",
        "outputId": "b036ec41-d554-4a7a-f3f7-187253f13127"
      },
      "source": [
        "!python3 -m pip install --upgrade pip"
      ],
      "execution_count": null,
      "outputs": [
        {
          "output_type": "stream",
          "text": [
            "Collecting pip\n",
            "\u001b[?25l  Downloading https://files.pythonhosted.org/packages/fe/ef/60d7ba03b5c442309ef42e7d69959f73aacccd0d86008362a681c4698e83/pip-21.0.1-py3-none-any.whl (1.5MB)\n",
            "\u001b[K     |████████████████████████████████| 1.5MB 6.9MB/s \n",
            "\u001b[?25hInstalling collected packages: pip\n",
            "  Found existing installation: pip 19.3.1\n",
            "    Uninstalling pip-19.3.1:\n",
            "      Successfully uninstalled pip-19.3.1\n",
            "Successfully installed pip-21.0.1\n"
          ],
          "name": "stdout"
        }
      ]
    },
    {
      "cell_type": "markdown",
      "metadata": {
        "id": "b4AobKFcH3At"
      },
      "source": [
        "Se inicia con la configuracion de voz"
      ]
    },
    {
      "cell_type": "code",
      "metadata": {
        "id": "gqRtKTu_GULa"
      },
      "source": [
        "import azure.cognitiveservices.speech as speechsdk\r\n",
        "speech_config = speechsdk.SpeechConfig(subscription=\"\", region=\"\")\r\n"
      ],
      "execution_count": null,
      "outputs": []
    },
    {
      "cell_type": "markdown",
      "metadata": {
        "id": "mX1XTyy4IF3k"
      },
      "source": [
        "Con este codigo se va a realizar el reconocimiento de voz desde el microfono"
      ]
    },
    {
      "cell_type": "code",
      "metadata": {
        "id": "WeXB4OYDIAFs"
      },
      "source": [
        "import azure.cognitiveservices.speech as speechsdk\r\n",
        "\r\n",
        "def from_mic():\r\n",
        "    speech_config = speechsdk.SpeechConfig(subscription=\"<paste-your-subscription-key>\", region=\"<paste-your-region>\")\r\n",
        "    speech_recognizer = speechsdk.SpeechRecognizer(speech_config=speech_config)\r\n",
        "    \r\n",
        "    print(\"Escuchando\")\r\n",
        "    result = speech_recognizer.recognize_once_async().get()\r\n",
        "    print(result.text)\r\n",
        "\r\n",
        "from_mic()"
      ],
      "execution_count": null,
      "outputs": []
    },
    {
      "cell_type": "markdown",
      "metadata": {
        "id": "VedYoaqCIU3P"
      },
      "source": [
        "Otra opcion es reconocer la voz de un archivo de audio por lo que se realizara el siguiente codigo que va a permitir realizar esa funcion\r\n"
      ]
    },
    {
      "cell_type": "code",
      "metadata": {
        "id": "Ik6rm12kKU3z"
      },
      "source": [
        "import azure.cognitiveservices.speech as speechsdk\r\n",
        "\r\n",
        "def from_file():\r\n",
        "    speech_config = speechsdk.SpeechConfig(subscription=\"<paste-your-subscription-key>\", region=\"<paste-your-region>\")\r\n",
        "    audio_input = speechsdk.AudioConfig(filename=\"your_file_name.wav\")\r\n",
        "    speech_recognizer = speechsdk.SpeechRecognizer(speech_config=speech_config, audio_config=audio_input)\r\n",
        "    \r\n",
        "    result = speech_recognizer.recognize_once_async().get()\r\n",
        "    print(result.text)\r\n",
        "\r\n",
        "from_file()"
      ],
      "execution_count": null,
      "outputs": []
    }
  ]
}